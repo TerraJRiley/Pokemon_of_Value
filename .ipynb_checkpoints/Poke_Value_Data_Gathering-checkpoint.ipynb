{
 "cells": [
  {
   "cell_type": "code",
   "execution_count": 146,
   "metadata": {},
   "outputs": [],
   "source": [
    "# Standard Imports for all notebooks\n",
    "import pandas as pd\n",
    "import numpy as np\n",
    "import matplotlib.pyplot as plt\n",
    "import seaborn as sns\n",
    "%matplotlib inline"
   ]
  },
  {
   "cell_type": "code",
   "execution_count": 6,
   "metadata": {},
   "outputs": [],
   "source": [
    "# Selenium\n",
    "# Scraping Libraries\n",
    "from bs4 import BeautifulSoup\n",
    "import requests\n",
    "\n",
    "from time import sleep\n",
    "import re"
   ]
  },
  {
   "cell_type": "code",
   "execution_count": 4,
   "metadata": {},
   "outputs": [],
   "source": [
    "# Other Quality of Life Imports\n",
    "from time import time\n",
    "from datetime import datetime\n",
    "datetime.fromtimestamp(time()).strftime('%m/%d/%Y, %H:%M:%S')\n",
    "\n",
    "import warnings\n",
    "warnings.filterwarnings('ignore')"
   ]
  },
  {
   "cell_type": "code",
   "execution_count": 18,
   "metadata": {},
   "outputs": [],
   "source": [
    "# REDDIT THINGS\n",
    "\n",
    "def scrape_reddit(the_subreddit, pages = 40):\n",
    "    all_posts = []\n",
    "    first_url = 'http://www.reddit.com/r/' + the_subreddit + '.json'\n",
    "    url = first_url\n",
    "    list_of_df = []\n",
    "    \n",
    "    # Get Sanity Check:\n",
    "    quick_check = requests.get(first_url, headers = {'User-agent':'Electronic Goddess'})\n",
    "    if int(str(quick_check)[11:14]) == 200:\n",
    "        print(\"Get request successful.\")\n",
    "        sleep(1)\n",
    "        print(\"Initiating Scrape...\")\n",
    "    else:\n",
    "        print(\"Get request not 200, instead recieved:\" + str(quick_check))\n",
    "        return\n",
    "    \n",
    "    # Scraping:\n",
    "    for round in range(pages):\n",
    "        try:\n",
    "            res = requests.get(url, headers = {'User-agent':'Electronic Goddess'})\n",
    "            data = res.json()    # Cut around here if we need other bits of info\n",
    "            list_of_posts = data['data']['children']\n",
    "            all_posts = all_posts + list_of_posts\n",
    "            after = data['data']['after']\n",
    "            url = first_url +'?after=' + after\n",
    "            print('Round: '+ str(round + 1))\n",
    "            sleep(3)        # Can be adjusted\n",
    "        except:\n",
    "            print('Limit likely hit.  Returning available posts.')\n",
    "            break\n",
    "#        return all_posts # This can be un-commented out for a straight forward raw scrape\n",
    "\n",
    "    # Formats the parts we care about into a list of dictionaries that'll become the dataframe\n",
    "    for i in range(len(all_posts)):\n",
    "        index_dictionary = {\n",
    "                'title' : all_posts[i]['data']['title'],\n",
    "                'selftext': all_posts[i]['data']['selftext'],\n",
    "                'subreddit' : all_posts[i]['data']['subreddit']\n",
    "            }\n",
    "        list_of_df.append(index_dictionary)\n",
    "    return pd.DataFrame(list_of_df, columns = ['title','selftext','subreddit'])\n"
   ]
  },
  {
   "cell_type": "code",
   "execution_count": 12,
   "metadata": {},
   "outputs": [],
   "source": [
    "# PokemonHome\n",
    "# CasualPokemonTrades\n",
    "# PokemonTrades"
   ]
  },
  {
   "cell_type": "code",
   "execution_count": 14,
   "metadata": {},
   "outputs": [
    {
     "name": "stdout",
     "output_type": "stream",
     "text": [
      "Get request successful.\n",
      "Initiating Scrape...\n",
      "Round: 1\n",
      "Round: 2\n",
      "Round: 3\n",
      "Round: 4\n",
      "Round: 5\n",
      "Round: 6\n",
      "Round: 7\n",
      "Round: 8\n",
      "Round: 9\n",
      "Round: 10\n",
      "Round: 11\n",
      "Round: 12\n",
      "Round: 13\n",
      "Round: 14\n",
      "Round: 15\n",
      "Round: 16\n",
      "Round: 17\n",
      "Round: 18\n",
      "Round: 19\n",
      "Round: 20\n",
      "Round: 21\n",
      "Round: 22\n",
      "Round: 23\n",
      "Round: 24\n",
      "Round: 25\n",
      "Round: 26\n",
      "Round: 27\n",
      "Round: 28\n",
      "Round: 29\n",
      "Round: 30\n",
      "Round: 31\n",
      "Round: 32\n",
      "Round: 33\n",
      "Round: 34\n",
      "Round: 35\n",
      "Round: 36\n",
      "Round: 37\n",
      "Round: 38\n",
      "Round: 39\n",
      "Limit likely hit.  Returning available posts.\n"
     ]
    }
   ],
   "source": [
    "df_casual = scrape_reddit(\"CasualPokemonTrades\")"
   ]
  },
  {
   "cell_type": "code",
   "execution_count": 19,
   "metadata": {},
   "outputs": [
    {
     "name": "stdout",
     "output_type": "stream",
     "text": [
      "Get request successful.\n",
      "Initiating Scrape...\n",
      "Round: 1\n",
      "Round: 2\n",
      "Round: 3\n",
      "Round: 4\n",
      "Round: 5\n",
      "Round: 6\n",
      "Round: 7\n",
      "Round: 8\n",
      "Round: 9\n",
      "Round: 10\n",
      "Round: 11\n",
      "Round: 12\n",
      "Round: 13\n",
      "Round: 14\n",
      "Round: 15\n",
      "Round: 16\n",
      "Round: 17\n",
      "Round: 18\n",
      "Round: 19\n",
      "Round: 20\n",
      "Round: 21\n",
      "Round: 22\n",
      "Round: 23\n",
      "Round: 24\n",
      "Round: 25\n",
      "Round: 26\n",
      "Round: 27\n",
      "Limit likely hit.  Returning available posts.\n"
     ]
    }
   ],
   "source": [
    "df_trades = scrape_reddit(\"PokemonTrades\")"
   ]
  },
  {
   "cell_type": "code",
   "execution_count": 20,
   "metadata": {},
   "outputs": [
    {
     "name": "stdout",
     "output_type": "stream",
     "text": [
      "Get request successful.\n",
      "Initiating Scrape...\n",
      "Round: 1\n",
      "Round: 2\n",
      "Round: 3\n",
      "Round: 4\n",
      "Round: 5\n",
      "Round: 6\n",
      "Round: 7\n",
      "Round: 8\n",
      "Round: 9\n",
      "Round: 10\n",
      "Round: 11\n",
      "Round: 12\n",
      "Round: 13\n",
      "Round: 14\n",
      "Round: 15\n",
      "Round: 16\n",
      "Round: 17\n",
      "Round: 18\n",
      "Round: 19\n",
      "Round: 20\n",
      "Round: 21\n",
      "Round: 22\n",
      "Round: 23\n",
      "Round: 24\n",
      "Round: 25\n",
      "Round: 26\n",
      "Round: 27\n",
      "Round: 28\n",
      "Round: 29\n",
      "Round: 30\n",
      "Round: 31\n",
      "Round: 32\n",
      "Round: 33\n",
      "Round: 34\n",
      "Round: 35\n",
      "Round: 36\n",
      "Round: 37\n",
      "Round: 38\n",
      "Round: 39\n",
      "Limit likely hit.  Returning available posts.\n"
     ]
    }
   ],
   "source": [
    "df_home = scrape_reddit(\"PokemonHome\")"
   ]
  },
  {
   "cell_type": "code",
   "execution_count": 21,
   "metadata": {},
   "outputs": [
    {
     "data": {
      "text/html": [
       "<div>\n",
       "<style scoped>\n",
       "    .dataframe tbody tr th:only-of-type {\n",
       "        vertical-align: middle;\n",
       "    }\n",
       "\n",
       "    .dataframe tbody tr th {\n",
       "        vertical-align: top;\n",
       "    }\n",
       "\n",
       "    .dataframe thead th {\n",
       "        text-align: right;\n",
       "    }\n",
       "</style>\n",
       "<table border=\"1\" class=\"dataframe\">\n",
       "  <thead>\n",
       "    <tr style=\"text-align: right;\">\n",
       "      <th></th>\n",
       "      <th>title</th>\n",
       "      <th>selftext</th>\n",
       "      <th>subreddit</th>\n",
       "    </tr>\n",
       "  </thead>\n",
       "  <tbody>\n",
       "    <tr>\n",
       "      <th>0</th>\n",
       "      <td>LF: shiny mythicals and offers</td>\n",
       "      <td></td>\n",
       "      <td>CasualPokemonTrades</td>\n",
       "    </tr>\n",
       "    <tr>\n",
       "      <th>1</th>\n",
       "      <td>Help completing the Home dex</td>\n",
       "      <td>Hi, I have registered 1007 pokemon and the onl...</td>\n",
       "      <td>CasualPokemonTrades</td>\n",
       "    </tr>\n",
       "    <tr>\n",
       "      <th>2</th>\n",
       "      <td>My Auspicious Armor for your Malicious Armor?</td>\n",
       "      <td>I’m playing Pokémon Scarlet and want to get a ...</td>\n",
       "      <td>CasualPokemonTrades</td>\n",
       "    </tr>\n",
       "    <tr>\n",
       "      <th>3</th>\n",
       "      <td>LF Shiny Alohan Vulpix/Ninetails</td>\n",
       "      <td>**Vulpix/Ninetails must be transferrable to SV...</td>\n",
       "      <td>CasualPokemonTrades</td>\n",
       "    </tr>\n",
       "    <tr>\n",
       "      <th>4</th>\n",
       "      <td>Looking for shiny hisuian qwilfish</td>\n",
       "      <td></td>\n",
       "      <td>CasualPokemonTrades</td>\n",
       "    </tr>\n",
       "    <tr>\n",
       "      <th>...</th>\n",
       "      <td>...</td>\n",
       "      <td>...</td>\n",
       "      <td>...</td>\n",
       "    </tr>\n",
       "    <tr>\n",
       "      <th>993</th>\n",
       "      <td>LF: legit Shiny Melmetal FT 👇</td>\n",
       "      <td></td>\n",
       "      <td>CasualPokemonTrades</td>\n",
       "    </tr>\n",
       "    <tr>\n",
       "      <th>994</th>\n",
       "      <td>LF: Apriballs in SV... FT: Apriballs in SwSh</td>\n",
       "      <td>Looking to trade Apriballs from Sword/ Shield ...</td>\n",
       "      <td>CasualPokemonTrades</td>\n",
       "    </tr>\n",
       "    <tr>\n",
       "      <th>995</th>\n",
       "      <td>FT: Apriballs (look at picture), Ability Patch...</td>\n",
       "      <td>https://pokedextracker.com/u/bmquinn03/paldea-...</td>\n",
       "      <td>CasualPokemonTrades</td>\n",
       "    </tr>\n",
       "    <tr>\n",
       "      <th>996</th>\n",
       "      <td>LF: Shiny Gimmighoul and Gholdengo clones</td>\n",
       "      <td>As stated above, I don't have much I can easil...</td>\n",
       "      <td>CasualPokemonTrades</td>\n",
       "    </tr>\n",
       "    <tr>\n",
       "      <th>997</th>\n",
       "      <td>[moon] Looking for a good iv foreign ditto (ei...</td>\n",
       "      <td>Lemme know what u want for it / offer request</td>\n",
       "      <td>CasualPokemonTrades</td>\n",
       "    </tr>\n",
       "  </tbody>\n",
       "</table>\n",
       "<p>998 rows × 3 columns</p>\n",
       "</div>"
      ],
      "text/plain": [
       "                                                 title  \\\n",
       "0                       LF: shiny mythicals and offers   \n",
       "1                         Help completing the Home dex   \n",
       "2        My Auspicious Armor for your Malicious Armor?   \n",
       "3                     LF Shiny Alohan Vulpix/Ninetails   \n",
       "4                   Looking for shiny hisuian qwilfish   \n",
       "..                                                 ...   \n",
       "993                      LF: legit Shiny Melmetal FT 👇   \n",
       "994       LF: Apriballs in SV... FT: Apriballs in SwSh   \n",
       "995  FT: Apriballs (look at picture), Ability Patch...   \n",
       "996          LF: Shiny Gimmighoul and Gholdengo clones   \n",
       "997  [moon] Looking for a good iv foreign ditto (ei...   \n",
       "\n",
       "                                              selftext            subreddit  \n",
       "0                                                       CasualPokemonTrades  \n",
       "1    Hi, I have registered 1007 pokemon and the onl...  CasualPokemonTrades  \n",
       "2    I’m playing Pokémon Scarlet and want to get a ...  CasualPokemonTrades  \n",
       "3    **Vulpix/Ninetails must be transferrable to SV...  CasualPokemonTrades  \n",
       "4                                                       CasualPokemonTrades  \n",
       "..                                                 ...                  ...  \n",
       "993                                                     CasualPokemonTrades  \n",
       "994  Looking to trade Apriballs from Sword/ Shield ...  CasualPokemonTrades  \n",
       "995  https://pokedextracker.com/u/bmquinn03/paldea-...  CasualPokemonTrades  \n",
       "996  As stated above, I don't have much I can easil...  CasualPokemonTrades  \n",
       "997      Lemme know what u want for it / offer request  CasualPokemonTrades  \n",
       "\n",
       "[998 rows x 3 columns]"
      ]
     },
     "execution_count": 21,
     "metadata": {},
     "output_type": "execute_result"
    }
   ],
   "source": [
    "df_casual"
   ]
  },
  {
   "cell_type": "code",
   "execution_count": null,
   "metadata": {},
   "outputs": [],
   "source": []
  },
  {
   "cell_type": "code",
   "execution_count": null,
   "metadata": {},
   "outputs": [],
   "source": []
  },
  {
   "cell_type": "code",
   "execution_count": 23,
   "metadata": {},
   "outputs": [],
   "source": [
    "\n",
    "first_url = 'http://www.reddit.com/r/PokemonHome.json'\n",
    "get_test = requests.get(first_url, headers = {'User-agent':'Electronic Goddess'})"
   ]
  },
  {
   "cell_type": "code",
   "execution_count": 59,
   "metadata": {},
   "outputs": [
    {
     "data": {
      "text/plain": [
       "{'approved_at_utc': None,\n",
       " 'subreddit': 'PokemonHome',\n",
       " 'selftext': '',\n",
       " 'author_fullname': 't2_zoyeu',\n",
       " 'saved': False,\n",
       " 'mod_reason_title': None,\n",
       " 'gilded': 0,\n",
       " 'clicked': False,\n",
       " 'title': 'Just want to thank everyone who helped me, I really appreciate it. This is a great community :)',\n",
       " 'link_flair_richtext': [{'e': 'text', 't': 'Discussion'}],\n",
       " 'subreddit_name_prefixed': 'r/PokemonHome',\n",
       " 'hidden': False,\n",
       " 'pwls': 6,\n",
       " 'link_flair_css_class': '',\n",
       " 'downs': 0,\n",
       " 'thumbnail_height': 140,\n",
       " 'top_awarded_type': None,\n",
       " 'hide_score': False,\n",
       " 'name': 't3_16sze2z',\n",
       " 'quarantine': False,\n",
       " 'link_flair_text_color': 'dark',\n",
       " 'upvote_ratio': 0.96,\n",
       " 'author_flair_background_color': None,\n",
       " 'ups': 17,\n",
       " 'total_awards_received': 0,\n",
       " 'media_embed': {},\n",
       " 'thumbnail_width': 140,\n",
       " 'author_flair_template_id': None,\n",
       " 'is_original_content': False,\n",
       " 'user_reports': [],\n",
       " 'secure_media': None,\n",
       " 'is_reddit_media_domain': True,\n",
       " 'is_meta': False,\n",
       " 'category': None,\n",
       " 'secure_media_embed': {},\n",
       " 'link_flair_text': 'Discussion',\n",
       " 'can_mod_post': False,\n",
       " 'score': 17,\n",
       " 'approved_by': None,\n",
       " 'is_created_from_ads_ui': False,\n",
       " 'author_premium': False,\n",
       " 'thumbnail': 'https://b.thumbs.redditmedia.com/wEjhKWazTEBpUUbmonpwVXykXGB_1bJrpLZNK0BPMMM.jpg',\n",
       " 'edited': False,\n",
       " 'author_flair_css_class': None,\n",
       " 'author_flair_richtext': [],\n",
       " 'gildings': {},\n",
       " 'post_hint': 'image',\n",
       " 'content_categories': None,\n",
       " 'is_self': False,\n",
       " 'subreddit_type': 'public',\n",
       " 'created': 1695760999.0,\n",
       " 'link_flair_type': 'richtext',\n",
       " 'wls': 6,\n",
       " 'removed_by_category': None,\n",
       " 'banned_by': None,\n",
       " 'author_flair_type': 'text',\n",
       " 'domain': 'i.redd.it',\n",
       " 'allow_live_comments': False,\n",
       " 'selftext_html': None,\n",
       " 'likes': None,\n",
       " 'suggested_sort': None,\n",
       " 'banned_at_utc': None,\n",
       " 'url_overridden_by_dest': 'https://i.redd.it/kj96ukz2wnqb1.jpg',\n",
       " 'view_count': None,\n",
       " 'archived': False,\n",
       " 'no_follow': False,\n",
       " 'is_crosspostable': False,\n",
       " 'pinned': False,\n",
       " 'over_18': False,\n",
       " 'preview': {'images': [{'source': {'url': 'https://preview.redd.it/kj96ukz2wnqb1.jpg?auto=webp&amp;s=6fd47695b363d545d839cf7776437e912f5a04de',\n",
       "     'width': 1080,\n",
       "     'height': 2400},\n",
       "    'resolutions': [{'url': 'https://preview.redd.it/kj96ukz2wnqb1.jpg?width=108&amp;crop=smart&amp;auto=webp&amp;s=d3080484a0f004416603edcb8ac71a99b330cad1',\n",
       "      'width': 108,\n",
       "      'height': 216},\n",
       "     {'url': 'https://preview.redd.it/kj96ukz2wnqb1.jpg?width=216&amp;crop=smart&amp;auto=webp&amp;s=f6fae819740245858ed736e101687c2371e78cd0',\n",
       "      'width': 216,\n",
       "      'height': 432},\n",
       "     {'url': 'https://preview.redd.it/kj96ukz2wnqb1.jpg?width=320&amp;crop=smart&amp;auto=webp&amp;s=3d5efaa87cac2333aed59d0c7e4ab043db52fae2',\n",
       "      'width': 320,\n",
       "      'height': 640},\n",
       "     {'url': 'https://preview.redd.it/kj96ukz2wnqb1.jpg?width=640&amp;crop=smart&amp;auto=webp&amp;s=aa759bfe6444939fe3cba5488eca0c872bb53aff',\n",
       "      'width': 640,\n",
       "      'height': 1280},\n",
       "     {'url': 'https://preview.redd.it/kj96ukz2wnqb1.jpg?width=960&amp;crop=smart&amp;auto=webp&amp;s=32af5005e2341099c580ea88c007e36731153afe',\n",
       "      'width': 960,\n",
       "      'height': 1920},\n",
       "     {'url': 'https://preview.redd.it/kj96ukz2wnqb1.jpg?width=1080&amp;crop=smart&amp;auto=webp&amp;s=2a596f705f3d9dc02a5062e90e22123a120ab2f2',\n",
       "      'width': 1080,\n",
       "      'height': 2160}],\n",
       "    'variants': {},\n",
       "    'id': '6VHOuga9v9jqAB5zmag4viRYC-TLJtGmz81-yLSYHYU'}],\n",
       "  'enabled': True},\n",
       " 'all_awardings': [],\n",
       " 'awarders': [],\n",
       " 'media_only': False,\n",
       " 'link_flair_template_id': '9e500d06-20c7-11ec-9a0e-ea219206ba8e',\n",
       " 'can_gild': False,\n",
       " 'spoiler': False,\n",
       " 'locked': False,\n",
       " 'author_flair_text': None,\n",
       " 'treatment_tags': [],\n",
       " 'visited': False,\n",
       " 'removed_by': None,\n",
       " 'mod_note': None,\n",
       " 'distinguished': None,\n",
       " 'subreddit_id': 't5_1266wh',\n",
       " 'author_is_blocked': False,\n",
       " 'mod_reason_by': None,\n",
       " 'num_reports': None,\n",
       " 'removal_reason': None,\n",
       " 'link_flair_background_color': '#eadf7f',\n",
       " 'id': '16sze2z',\n",
       " 'is_robot_indexable': True,\n",
       " 'report_reasons': None,\n",
       " 'author': 'Eireagon',\n",
       " 'discussion_type': None,\n",
       " 'num_comments': 10,\n",
       " 'send_replies': True,\n",
       " 'whitelist_status': 'all_ads',\n",
       " 'contest_mode': False,\n",
       " 'mod_reports': [],\n",
       " 'author_patreon_flair': False,\n",
       " 'author_flair_text_color': None,\n",
       " 'permalink': '/r/PokemonHome/comments/16sze2z/just_want_to_thank_everyone_who_helped_me_i/',\n",
       " 'parent_whitelist_status': 'all_ads',\n",
       " 'stickied': False,\n",
       " 'url': 'https://i.redd.it/kj96ukz2wnqb1.jpg',\n",
       " 'subreddit_subscribers': 48595,\n",
       " 'created_utc': 1695760999.0,\n",
       " 'num_crossposts': 0,\n",
       " 'media': None,\n",
       " 'is_video': False}"
      ]
     },
     "execution_count": 59,
     "metadata": {},
     "output_type": "execute_result"
    }
   ],
   "source": [
    "get_test.json()[\"data\"][\"children\"][3]['data']\n",
    "#'upvote_ratio'\n",
    "#\"ups\"\n",
    "# \"total_awards_recieved\"\n",
    "#\"media_embeded\"???\n",
    "#\"score\"\n",
    "# \"is_created_from_ads_ui\"?\n",
    "# \"thumbnail\"\n",
    "# \"url_overridden_by_dest\"\n",
    "# \"preview\"\n",
    "# \"subreddit_id\"\n",
    "# \"id\"\n",
    "# permalink\n",
    "# \"url\""
   ]
  },
  {
   "cell_type": "code",
   "execution_count": null,
   "metadata": {},
   "outputs": [],
   "source": [
    "get_test.json()[\"data\"][\"children\"][3]['data'][\"\"]"
   ]
  },
  {
   "cell_type": "code",
   "execution_count": null,
   "metadata": {},
   "outputs": [],
   "source": []
  },
  {
   "cell_type": "code",
   "execution_count": null,
   "metadata": {},
   "outputs": [],
   "source": []
  },
  {
   "cell_type": "code",
   "execution_count": 46,
   "metadata": {},
   "outputs": [
    {
     "data": {
      "text/plain": [
       "1695760999.0"
      ]
     },
     "execution_count": 46,
     "metadata": {},
     "output_type": "execute_result"
    }
   ],
   "source": [
    "get_test.json()[\"data\"][\"children\"][3]['data'][\"created_utc\"].to"
   ]
  },
  {
   "cell_type": "code",
   "execution_count": 47,
   "metadata": {},
   "outputs": [],
   "source": [
    "import datetime"
   ]
  },
  {
   "cell_type": "code",
   "execution_count": 53,
   "metadata": {},
   "outputs": [
    {
     "data": {
      "text/plain": [
       "datetime.datetime(2023, 9, 26, 20, 43, 19)"
      ]
     },
     "execution_count": 53,
     "metadata": {},
     "output_type": "execute_result"
    }
   ],
   "source": [
    "datetime.datetime.utcfromtimestamp(1695760999)"
   ]
  },
  {
   "cell_type": "code",
   "execution_count": null,
   "metadata": {},
   "outputs": [],
   "source": [
    "datetime"
   ]
  },
  {
   "cell_type": "code",
   "execution_count": 45,
   "metadata": {},
   "outputs": [
    {
     "data": {
      "text/plain": [
       "{'source': {'url': 'https://preview.redd.it/kj96ukz2wnqb1.jpg?auto=webp&amp;s=6fd47695b363d545d839cf7776437e912f5a04de',\n",
       "  'width': 1080,\n",
       "  'height': 2400},\n",
       " 'resolutions': [{'url': 'https://preview.redd.it/kj96ukz2wnqb1.jpg?width=108&amp;crop=smart&amp;auto=webp&amp;s=d3080484a0f004416603edcb8ac71a99b330cad1',\n",
       "   'width': 108,\n",
       "   'height': 216},\n",
       "  {'url': 'https://preview.redd.it/kj96ukz2wnqb1.jpg?width=216&amp;crop=smart&amp;auto=webp&amp;s=f6fae819740245858ed736e101687c2371e78cd0',\n",
       "   'width': 216,\n",
       "   'height': 432},\n",
       "  {'url': 'https://preview.redd.it/kj96ukz2wnqb1.jpg?width=320&amp;crop=smart&amp;auto=webp&amp;s=3d5efaa87cac2333aed59d0c7e4ab043db52fae2',\n",
       "   'width': 320,\n",
       "   'height': 640},\n",
       "  {'url': 'https://preview.redd.it/kj96ukz2wnqb1.jpg?width=640&amp;crop=smart&amp;auto=webp&amp;s=aa759bfe6444939fe3cba5488eca0c872bb53aff',\n",
       "   'width': 640,\n",
       "   'height': 1280},\n",
       "  {'url': 'https://preview.redd.it/kj96ukz2wnqb1.jpg?width=960&amp;crop=smart&amp;auto=webp&amp;s=32af5005e2341099c580ea88c007e36731153afe',\n",
       "   'width': 960,\n",
       "   'height': 1920},\n",
       "  {'url': 'https://preview.redd.it/kj96ukz2wnqb1.jpg?width=1080&amp;crop=smart&amp;auto=webp&amp;s=2a596f705f3d9dc02a5062e90e22123a120ab2f2',\n",
       "   'width': 1080,\n",
       "   'height': 2160}],\n",
       " 'variants': {},\n",
       " 'id': '6VHOuga9v9jqAB5zmag4viRYC-TLJtGmz81-yLSYHYU'}"
      ]
     },
     "execution_count": 45,
     "metadata": {},
     "output_type": "execute_result"
    }
   ],
   "source": [
    "get_test.json()[\"data\"][\"children\"][3]['data'][\"preview\"][\"images\"][0]"
   ]
  },
  {
   "cell_type": "code",
   "execution_count": null,
   "metadata": {},
   "outputs": [],
   "source": []
  },
  {
   "cell_type": "code",
   "execution_count": 30,
   "metadata": {
    "scrolled": true
   },
   "outputs": [
    {
     "data": {
      "text/plain": [
       "dict_keys(['after', 'dist', 'modhash', 'geo_filter', 'children', 'before'])"
      ]
     },
     "execution_count": 30,
     "metadata": {},
     "output_type": "execute_result"
    }
   ],
   "source": [
    "get_test.json()[\"data\"].keys()"
   ]
  },
  {
   "cell_type": "code",
   "execution_count": 34,
   "metadata": {},
   "outputs": [
    {
     "data": {
      "text/plain": [
       "27"
      ]
     },
     "execution_count": 34,
     "metadata": {},
     "output_type": "execute_result"
    }
   ],
   "source": [
    "len(get_test.json()[\"data\"][\"children\"])"
   ]
  },
  {
   "cell_type": "code",
   "execution_count": 64,
   "metadata": {},
   "outputs": [],
   "source": [
    "list_test = [i for i in get_test.json()[\"data\"][\"children\"][3]['data'].keys()].sort()"
   ]
  },
  {
   "cell_type": "code",
   "execution_count": 68,
   "metadata": {},
   "outputs": [],
   "source": [
    "dict_test = get_test.json()[\"data\"][\"children\"][3]['data']"
   ]
  },
  {
   "cell_type": "code",
   "execution_count": 72,
   "metadata": {},
   "outputs": [
    {
     "data": {
      "text/plain": [
       "[0, 6, 0, 140, 17, 0, 140, 17, 6, 10, 48595, 0]"
      ]
     },
     "execution_count": 72,
     "metadata": {},
     "output_type": "execute_result"
    }
   ],
   "source": [
    "[dict_test[i] for i in dict_test.keys() if type(dict_test[i]) == int]"
   ]
  },
  {
   "cell_type": "code",
   "execution_count": 74,
   "metadata": {},
   "outputs": [
    {
     "data": {
      "text/plain": [
       "['gilded',\n",
       " 'pwls',\n",
       " 'downs',\n",
       " 'thumbnail_height',\n",
       " 'ups',\n",
       " 'total_awards_received',\n",
       " 'thumbnail_width',\n",
       " 'score',\n",
       " 'wls',\n",
       " 'num_comments',\n",
       " 'subreddit_subscribers',\n",
       " 'num_crossposts']"
      ]
     },
     "execution_count": 74,
     "metadata": {},
     "output_type": "execute_result"
    }
   ],
   "source": [
    "[i for i in dict_test.keys() if type(dict_test[i]) == int]"
   ]
  },
  {
   "cell_type": "code",
   "execution_count": 76,
   "metadata": {},
   "outputs": [
    {
     "data": {
      "text/plain": [
       "['subreddit',\n",
       " 'selftext',\n",
       " 'author_fullname',\n",
       " 'title',\n",
       " 'subreddit_name_prefixed',\n",
       " 'link_flair_css_class',\n",
       " 'name',\n",
       " 'link_flair_text_color',\n",
       " 'link_flair_text',\n",
       " 'thumbnail',\n",
       " 'post_hint',\n",
       " 'subreddit_type',\n",
       " 'link_flair_type',\n",
       " 'author_flair_type',\n",
       " 'domain',\n",
       " 'url_overridden_by_dest',\n",
       " 'link_flair_template_id',\n",
       " 'subreddit_id',\n",
       " 'link_flair_background_color',\n",
       " 'id',\n",
       " 'author',\n",
       " 'whitelist_status',\n",
       " 'permalink',\n",
       " 'parent_whitelist_status',\n",
       " 'url']"
      ]
     },
     "execution_count": 76,
     "metadata": {},
     "output_type": "execute_result"
    }
   ],
   "source": [
    "[i for i in dict_test.keys() if type(dict_test[i]) == str]"
   ]
  },
  {
   "cell_type": "code",
   "execution_count": 75,
   "metadata": {},
   "outputs": [
    {
     "data": {
      "text/plain": [
       "10"
      ]
     },
     "execution_count": 75,
     "metadata": {},
     "output_type": "execute_result"
    }
   ],
   "source": [
    "dict_test[\"num_comments\"]"
   ]
  },
  {
   "cell_type": "code",
   "execution_count": null,
   "metadata": {},
   "outputs": [],
   "source": [
    "get_test.json()[\"data\"][\"children\"][3]['data']\n",
    "#'upvote_ratio'\n",
    "#\"ups\"\n",
    "# \"total_awards_recieved\"\n",
    "#\"media_embeded\"???\n",
    "#\"score\"\n",
    "# \"is_created_from_ads_ui\"?\n",
    "# \"thumbnail\"\n",
    "# \"url_overridden_by_dest\"\n",
    "# \"preview\"\n",
    "# \"subreddit_id\"\n",
    "# \"id\"\n",
    "# permalink\n",
    "# \"url\"\n",
    "# num_comments"
   ]
  },
  {
   "cell_type": "code",
   "execution_count": null,
   "metadata": {},
   "outputs": [],
   "source": [
    "'subreddit',\n",
    " 'selftext',\n",
    " 'author_fullname',\n",
    " 'title',\n",
    "    ups\n",
    "score\n",
    "id\n"
   ]
  },
  {
   "cell_type": "code",
   "execution_count": 84,
   "metadata": {},
   "outputs": [],
   "source": [
    "# REDDIT THINGS\n",
    "\n",
    "def scrape_reddit(the_subreddit, pages = 40):\n",
    "    all_posts = []\n",
    "    first_url = 'http://www.reddit.com/r/PokemonHome.json'\n",
    "    url = first_url\n",
    "    list_of_df = []\n",
    "    \n",
    "    # Get Sanity Check:\n",
    "    quick_check = requests.get(first_url, headers = {'User-agent':'Electronic Goddess'})\n",
    "    if int(str(quick_check)[11:14]) == 200:\n",
    "        print(\"Get request successful.\")\n",
    "        sleep(1)\n",
    "        print(\"Initiating Scrape...\")\n",
    "    else:\n",
    "        print(\"Get request not 200, instead recieved:\" + str(quick_check))\n",
    "        return\n",
    "    \n",
    "    # Scraping:\n",
    "    for round in range(pages):\n",
    "        try:\n",
    "            res = requests.get(url, headers = {'User-agent':'Electronic Goddess'})\n",
    "            data = res.json()    # Cut around here if we need other bits of info\n",
    "            list_of_posts = data['data']['children']\n",
    "            all_posts = all_posts + list_of_posts\n",
    "            after = data['data']['after']\n",
    "            url = first_url +'?after=' + after\n",
    "            print('Round: '+ str(round + 1))\n",
    "            sleep(3)        # Can be adjusted\n",
    "        except:\n",
    "            print('Limit likely hit.  Returning available posts.')\n",
    "            break\n",
    "#        return all_posts # This can be un-commented out for a straight forward raw scrape\n",
    "\n",
    "    # Formats the parts we care about into a list of dictionaries that'll become the dataframe\n",
    "    for i in range(len(all_posts)):\n",
    "        index_dictionary = {\n",
    "                'title' : all_posts[i]['data']['title'],\n",
    "                'selftext': all_posts[i]['data']['selftext'],\n",
    "                'subreddit' : all_posts[i]['data']['subreddit'],\n",
    "                \"ups\" : all_posts[i]['data']['ups'],\n",
    "                \"score\" : all_posts[i]['data']['score'],\n",
    "                \"id\" : all_posts[i]['data']['id'],\n",
    "                \"score\" : all_posts[i]['data']['score'],\n",
    "                \"num_comments\" : all_posts[i]['data']['num_comments'],\n",
    "                \"permalink\" : all_posts[i]['data']['permalink'],\n",
    "                \"url\" : all_posts[i]['data']['url'],\n",
    "                \"datetime\" : datetime.datetime.utcfromtimestamp(all_posts[i]['data'][\"created_utc\"])\n",
    "            }\n",
    "        list_of_df.append(index_dictionary)\n",
    "    return pd.DataFrame(list_of_df)#, columns = ['title','selftext','subreddit'])\n"
   ]
  },
  {
   "cell_type": "code",
   "execution_count": null,
   "metadata": {},
   "outputs": [],
   "source": []
  },
  {
   "cell_type": "code",
   "execution_count": null,
   "metadata": {},
   "outputs": [],
   "source": [
    "\n",
    "#'upvote_ratio'\n",
    "#\"ups\"\n",
    "#\"media_embeded\"???\n",
    "# \"thumbnail\"\n",
    "# \"url_overridden_by_dest\"\n",
    "# \"preview\"\n",
    "# \"subreddit_id\"\n",
    "# \"id\"\n",
    "# permalink\n",
    "# \"url\""
   ]
  },
  {
   "cell_type": "code",
   "execution_count": null,
   "metadata": {},
   "outputs": [],
   "source": [
    "'subreddit',\n",
    " 'selftext',\n",
    " 'author_fullname',\n",
    " 'title',\n",
    "    ups\n",
    "score\n",
    "id\n",
    "#'upvote_ratio'\n",
    "#\"ups\"\n",
    "#\"media_embeded\"???\n",
    "# \"thumbnail\"\n",
    "# \"url_overridden_by_dest\"\n",
    "# \"preview\"\n",
    "# \"subreddit_id\"\n",
    "# \"id\"\n",
    "# permalink\n",
    "# \"url\"\n",
    "# num_comments"
   ]
  },
  {
   "cell_type": "code",
   "execution_count": 148,
   "metadata": {},
   "outputs": [
    {
     "name": "stdout",
     "output_type": "stream",
     "text": [
      "Get request successful.\n",
      "Initiating Scrape...\n",
      "Round: 1\n",
      "Round: 2\n",
      "Round: 3\n",
      "Round: 4\n",
      "Round: 5\n",
      "Round: 6\n",
      "Round: 7\n",
      "Round: 8\n",
      "Round: 9\n",
      "Round: 10\n",
      "Round: 11\n",
      "Round: 12\n",
      "Round: 13\n",
      "Round: 14\n",
      "Round: 15\n",
      "Round: 16\n",
      "Round: 17\n",
      "Round: 18\n",
      "Round: 19\n",
      "Round: 20\n",
      "Round: 21\n",
      "Round: 22\n",
      "Round: 23\n",
      "Round: 24\n",
      "Round: 25\n",
      "Round: 26\n",
      "Round: 27\n",
      "Round: 28\n",
      "Round: 29\n",
      "Round: 30\n",
      "Round: 31\n",
      "Round: 32\n",
      "Round: 33\n",
      "Round: 34\n",
      "Round: 35\n",
      "Round: 36\n",
      "Round: 37\n",
      "Round: 38\n",
      "Round: 39\n",
      "Limit likely hit.  Returning available posts.\n"
     ]
    }
   ],
   "source": [
    "df_home = scrape_reddit(\"PokemonHome\")"
   ]
  },
  {
   "cell_type": "code",
   "execution_count": 149,
   "metadata": {},
   "outputs": [],
   "source": [
    "df_home[\"datetime\"] = df_home[\"utc_number\"].map(lambda x: datetime.datetime.utcfromtimestamp(x))"
   ]
  },
  {
   "cell_type": "code",
   "execution_count": 150,
   "metadata": {},
   "outputs": [],
   "source": [
    "df_home = df_home.drop([\"subreddit\", \"ups\", \"id\", ], axis = 1)"
   ]
  },
  {
   "cell_type": "code",
   "execution_count": 151,
   "metadata": {},
   "outputs": [],
   "source": [
    "df_home[\"weekday\"] = df_home[\"datetime\"].map(lambda x: datetime.date.isoweekday(x))"
   ]
  },
  {
   "cell_type": "code",
   "execution_count": 152,
   "metadata": {},
   "outputs": [],
   "source": [
    "df_home[\"hour_of_day\"] = df_home[\"datetime\"].map(lambda x: int(str(x)[11:-6]))"
   ]
  },
  {
   "cell_type": "code",
   "execution_count": 153,
   "metadata": {},
   "outputs": [],
   "source": [
    "dict_weekday = {\n",
    "   1 : \"Monday\",\n",
    "   2 : \"Tuesday\",\n",
    "   3 : \"Wednesday\",\n",
    "   4 : \"Thursday\",\n",
    "   5 : \"Friday\",\n",
    "   6 : \"Saturday\",\n",
    "   7 : \"Sunday\"\n",
    "}"
   ]
  },
  {
   "cell_type": "code",
   "execution_count": 154,
   "metadata": {},
   "outputs": [
    {
     "data": {
      "image/png": "[encoded data removed]",
      "text/plain": [
       "<Figure size 432x288 with 1 Axes>"
      ]
     },
     "metadata": {
      "needs_background": "light"
     },
     "output_type": "display_data"
    }
   ],
   "source": [
    "# Number of comments per day - Data: Thursday\n",
    "plt.barh([dict_weekday[i] for i in df_home[\"weekday\"]], df_home[\"num_comments\"]);"
   ]
  },
  {
   "cell_type": "code",
   "execution_count": 155,
   "metadata": {
    "scrolled": true
   },
   "outputs": [
    {
     "data": {
      "image/png": "[encoded data removed]",
      "text/plain": [
       "<Figure size 432x288 with 1 Axes>"
      ]
     },
     "metadata": {
      "needs_background": "light"
     },
     "output_type": "display_data"
    }
   ],
   "source": [
    "# Number of comments per day - Data: Thursday\n",
    "plt.bar(df_home[\"hour_of_day\"], df_home[\"num_comments\"]);"
   ]
  },
  {
   "cell_type": "code",
   "execution_count": 162,
   "metadata": {
    "scrolled": true
   },
   "outputs": [
    {
     "data": {
      "image/png": "[encoded data removed]",
      "text/plain": [
       "<Figure size 432x288 with 1 Axes>"
      ]
     },
     "metadata": {
      "needs_background": "light"
     },
     "output_type": "display_data"
    }
   ],
   "source": [
    "# Most comments per hour in day - Data: Thursday\n",
    "plt.bar(df_home[\"hour_of_day\"][df_home[\"weekday\"] == 5], df_home[\"num_comments\"][df_home[\"weekday\"] == 5]);"
   ]
  },
  {
   "cell_type": "code",
   "execution_count": 161,
   "metadata": {},
   "outputs": [
    {
     "name": "stdout",
     "output_type": "stream",
     "text": [
      "Monday 18.065656565656564\n",
      "Tuesday 19.36875\n",
      "Wednesday 23.786206896551725\n",
      "Thursday 23.83240223463687\n",
      "Friday 24.6046511627907\n",
      "Saturday 24.9\n",
      "Sunday 19.78723404255319\n"
     ]
    }
   ],
   "source": [
    "# Average Comments per day - Data: Thursday\n",
    "dict_avg = {}\n",
    "for num in range(1,8):\n",
    "    avg_comments_per_post = df_home[\"num_comments\"][df_home[\"weekday\"] == num].sum(\n",
    "        )/df_home[df_home[\"weekday\"] == num].shape[0]\n",
    "    print(dict_weekday[num], avg_comments_per_post)\n",
    "    dict_avg[dict_weekday[num]] = avg_comments_per_post"
   ]
  },
  {
   "cell_type": "code",
   "execution_count": 160,
   "metadata": {},
   "outputs": [
    {
     "data": {
      "image/png": "[encoded data removed]",
      "text/plain": [
       "<Figure size 432x288 with 1 Axes>"
      ]
     },
     "metadata": {
      "needs_background": "light"
     },
     "output_type": "display_data"
    }
   ],
   "source": [
    "# Number of comments per day - Data: Thursday\n",
    "plt.bar([i for i in dict_avg.keys()],[dict_avg[i] for i in dict_avg.keys()]);"
   ]
  },
  {
   "cell_type": "code",
   "execution_count": null,
   "metadata": {},
   "outputs": [],
   "source": []
  },
  {
   "cell_type": "code",
   "execution_count": null,
   "metadata": {},
   "outputs": [],
   "source": []
  },
  {
   "cell_type": "code",
   "execution_count": null,
   "metadata": {},
   "outputs": [],
   "source": []
  },
  {
   "cell_type": "code",
   "execution_count": null,
   "metadata": {},
   "outputs": [],
   "source": []
  },
  {
   "cell_type": "code",
   "execution_count": null,
   "metadata": {},
   "outputs": [],
   "source": []
  },
  {
   "cell_type": "code",
   "execution_count": null,
   "metadata": {},
   "outputs": [],
   "source": []
  },
  {
   "cell_type": "code",
   "execution_count": null,
   "metadata": {},
   "outputs": [],
   "source": []
  },
  {
   "cell_type": "code",
   "execution_count": null,
   "metadata": {},
   "outputs": [],
   "source": []
  },
  {
   "cell_type": "code",
   "execution_count": null,
   "metadata": {},
   "outputs": [],
   "source": []
  },
  {
   "cell_type": "markdown",
   "metadata": {},
   "source": [
    "# Data collected Wednesday-ish"
   ]
  },
  {
   "cell_type": "code",
   "execution_count": 103,
   "metadata": {
    "scrolled": true
   },
   "outputs": [
    {
     "data": {
      "image/png": "[encoded data removed]",
      "text/plain": [
       "<Figure size 432x288 with 1 Axes>"
      ]
     },
     "metadata": {
      "needs_background": "light"
     },
     "output_type": "display_data"
    }
   ],
   "source": [
    "# Score Total per day\n",
    "\n",
    "plt.bar([dict_weekday[i] for i in df_home[\"weekday\"]], df_home[\"score\"]);"
   ]
  },
  {
   "cell_type": "code",
   "execution_count": 147,
   "metadata": {},
   "outputs": [
    {
     "data": {
      "image/png": "[encoded data removed]",
      "text/plain": [
       "<Figure size 432x288 with 1 Axes>"
      ]
     },
     "metadata": {
      "needs_background": "light"
     },
     "output_type": "display_data"
    }
   ],
   "source": [
    "# Number of comments per day - Data: Tuesday\n",
    "plt.barh([dict_weekday[i] for i in df_home[\"weekday\"]], df_home[\"num_comments\"]);"
   ]
  },
  {
   "cell_type": "code",
   "execution_count": 127,
   "metadata": {
    "scrolled": true
   },
   "outputs": [
    {
     "data": {
      "image/png": "[encoded data removed]",
      "text/plain": [
       "<Figure size 432x288 with 1 Axes>"
      ]
     },
     "metadata": {
      "needs_background": "light"
     },
     "output_type": "display_data"
    }
   ],
   "source": [
    "# Number of comments per day - Data: Tuesday\n",
    "plt.bar(df_home[\"hour_of_day\"], df_home[\"num_comments\"]);"
   ]
  },
  {
   "cell_type": "code",
   "execution_count": 126,
   "metadata": {
    "scrolled": true
   },
   "outputs": [
    {
     "data": {
      "image/png": "[encoded data removed]",
      "text/plain": [
       "<Figure size 432x288 with 1 Axes>"
      ]
     },
     "metadata": {
      "needs_background": "light"
     },
     "output_type": "display_data"
    }
   ],
   "source": [
    "# Most comments per hour in day - Data: Tuesday\n",
    "plt.bar(df_home[\"hour_of_day\"][df_home[\"weekday\"] == 7], df_home[\"num_comments\"][df_home[\"weekday\"] == 7]);"
   ]
  },
  {
   "cell_type": "code",
   "execution_count": 144,
   "metadata": {},
   "outputs": [
    {
     "name": "stdout",
     "output_type": "stream",
     "text": [
      "Monday 19.054726368159205\n",
      "Tuesday 20.098837209302324\n",
      "Wednesday 15.448979591836734\n",
      "Thursday 93.0\n",
      "Friday 28.908045977011493\n",
      "Saturday 19.95767195767196\n",
      "Sunday 19.523809523809526\n"
     ]
    }
   ],
   "source": [
    "# Average Comments per day - Data: Tuesday\n",
    "for num in range(1,8):\n",
    "    avg_comments_per_post = df_home[\"num_comments\"][df_home[\"weekday\"] == num].sum(\n",
    "        )/df_home[df_home[\"weekday\"] == num].shape[0]\n",
    "    print(dict_weekday[num], avg_comments_per_post)"
   ]
  },
  {
   "cell_type": "code",
   "execution_count": null,
   "metadata": {},
   "outputs": [],
   "source": []
  },
  {
   "cell_type": "code",
   "execution_count": null,
   "metadata": {},
   "outputs": [],
   "source": []
  },
  {
   "cell_type": "code",
   "execution_count": null,
   "metadata": {},
   "outputs": [],
   "source": []
  },
  {
   "cell_type": "code",
   "execution_count": null,
   "metadata": {},
   "outputs": [],
   "source": []
  },
  {
   "cell_type": "code",
   "execution_count": null,
   "metadata": {},
   "outputs": [],
   "source": []
  },
  {
   "cell_type": "code",
   "execution_count": null,
   "metadata": {},
   "outputs": [],
   "source": []
  },
  {
   "cell_type": "code",
   "execution_count": null,
   "metadata": {},
   "outputs": [],
   "source": []
  },
  {
   "cell_type": "code",
   "execution_count": null,
   "metadata": {},
   "outputs": [],
   "source": []
  },
  {
   "cell_type": "code",
   "execution_count": null,
   "metadata": {},
   "outputs": [],
   "source": []
  },
  {
   "cell_type": "code",
   "execution_count": null,
   "metadata": {},
   "outputs": [],
   "source": []
  },
  {
   "cell_type": "code",
   "execution_count": null,
   "metadata": {},
   "outputs": [],
   "source": []
  },
  {
   "cell_type": "code",
   "execution_count": null,
   "metadata": {},
   "outputs": [],
   "source": []
  },
  {
   "cell_type": "code",
   "execution_count": null,
   "metadata": {},
   "outputs": [],
   "source": []
  },
  {
   "cell_type": "code",
   "execution_count": null,
   "metadata": {},
   "outputs": [],
   "source": []
  },
  {
   "cell_type": "code",
   "execution_count": null,
   "metadata": {},
   "outputs": [],
   "source": []
  },
  {
   "cell_type": "code",
   "execution_count": null,
   "metadata": {},
   "outputs": [],
   "source": []
  },
  {
   "cell_type": "code",
   "execution_count": null,
   "metadata": {},
   "outputs": [],
   "source": []
  },
  {
   "cell_type": "code",
   "execution_count": null,
   "metadata": {},
   "outputs": [],
   "source": []
  },
  {
   "cell_type": "code",
   "execution_count": null,
   "metadata": {},
   "outputs": [],
   "source": []
  },
  {
   "cell_type": "code",
   "execution_count": null,
   "metadata": {},
   "outputs": [],
   "source": []
  },
  {
   "cell_type": "code",
   "execution_count": null,
   "metadata": {},
   "outputs": [],
   "source": []
  },
  {
   "cell_type": "code",
   "execution_count": null,
   "metadata": {},
   "outputs": [],
   "source": []
  },
  {
   "cell_type": "code",
   "execution_count": null,
   "metadata": {},
   "outputs": [],
   "source": []
  },
  {
   "cell_type": "code",
   "execution_count": null,
   "metadata": {},
   "outputs": [],
   "source": []
  },
  {
   "cell_type": "code",
   "execution_count": null,
   "metadata": {},
   "outputs": [],
   "source": []
  },
  {
   "cell_type": "code",
   "execution_count": null,
   "metadata": {},
   "outputs": [],
   "source": []
  },
  {
   "cell_type": "code",
   "execution_count": null,
   "metadata": {},
   "outputs": [],
   "source": []
  },
  {
   "cell_type": "code",
   "execution_count": null,
   "metadata": {},
   "outputs": [],
   "source": []
  },
  {
   "cell_type": "code",
   "execution_count": null,
   "metadata": {},
   "outputs": [],
   "source": []
  },
  {
   "cell_type": "code",
   "execution_count": null,
   "metadata": {},
   "outputs": [],
   "source": []
  },
  {
   "cell_type": "code",
   "execution_count": null,
   "metadata": {},
   "outputs": [],
   "source": []
  },
  {
   "cell_type": "code",
   "execution_count": null,
   "metadata": {},
   "outputs": [],
   "source": []
  },
  {
   "cell_type": "code",
   "execution_count": null,
   "metadata": {},
   "outputs": [],
   "source": []
  },
  {
   "cell_type": "code",
   "execution_count": null,
   "metadata": {},
   "outputs": [],
   "source": []
  },
  {
   "cell_type": "code",
   "execution_count": null,
   "metadata": {},
   "outputs": [],
   "source": []
  },
  {
   "cell_type": "code",
   "execution_count": null,
   "metadata": {},
   "outputs": [],
   "source": []
  },
  {
   "cell_type": "code",
   "execution_count": null,
   "metadata": {},
   "outputs": [],
   "source": []
  },
  {
   "cell_type": "code",
   "execution_count": null,
   "metadata": {},
   "outputs": [],
   "source": []
  },
  {
   "cell_type": "code",
   "execution_count": null,
   "metadata": {},
   "outputs": [],
   "source": []
  },
  {
   "cell_type": "code",
   "execution_count": null,
   "metadata": {},
   "outputs": [],
   "source": []
  },
  {
   "cell_type": "code",
   "execution_count": null,
   "metadata": {},
   "outputs": [],
   "source": []
  },
  {
   "cell_type": "code",
   "execution_count": null,
   "metadata": {},
   "outputs": [],
   "source": []
  },
  {
   "cell_type": "code",
   "execution_count": null,
   "metadata": {},
   "outputs": [],
   "source": []
  },
  {
   "cell_type": "code",
   "execution_count": null,
   "metadata": {},
   "outputs": [],
   "source": []
  },
  {
   "cell_type": "code",
   "execution_count": null,
   "metadata": {},
   "outputs": [],
   "source": []
  },
  {
   "cell_type": "code",
   "execution_count": null,
   "metadata": {},
   "outputs": [],
   "source": []
  },
  {
   "cell_type": "code",
   "execution_count": null,
   "metadata": {},
   "outputs": [],
   "source": []
  },
  {
   "cell_type": "code",
   "execution_count": null,
   "metadata": {},
   "outputs": [],
   "source": []
  },
  {
   "cell_type": "code",
   "execution_count": null,
   "metadata": {},
   "outputs": [],
   "source": []
  },
  {
   "cell_type": "code",
   "execution_count": null,
   "metadata": {},
   "outputs": [],
   "source": []
  },
  {
   "cell_type": "code",
   "execution_count": null,
   "metadata": {},
   "outputs": [],
   "source": []
  },
  {
   "cell_type": "code",
   "execution_count": null,
   "metadata": {},
   "outputs": [],
   "source": []
  },
  {
   "cell_type": "code",
   "execution_count": null,
   "metadata": {},
   "outputs": [],
   "source": []
  },
  {
   "cell_type": "code",
   "execution_count": null,
   "metadata": {},
   "outputs": [],
   "source": []
  },
  {
   "cell_type": "code",
   "execution_count": null,
   "metadata": {},
   "outputs": [],
   "source": []
  },
  {
   "cell_type": "code",
   "execution_count": null,
   "metadata": {},
   "outputs": [],
   "source": []
  },
  {
   "cell_type": "code",
   "execution_count": null,
   "metadata": {},
   "outputs": [],
   "source": []
  },
  {
   "cell_type": "code",
   "execution_count": null,
   "metadata": {},
   "outputs": [],
   "source": []
  },
  {
   "cell_type": "code",
   "execution_count": null,
   "metadata": {},
   "outputs": [],
   "source": []
  },
  {
   "cell_type": "code",
   "execution_count": null,
   "metadata": {},
   "outputs": [],
   "source": []
  },
  {
   "cell_type": "code",
   "execution_count": null,
   "metadata": {},
   "outputs": [],
   "source": []
  },
  {
   "cell_type": "code",
   "execution_count": null,
   "metadata": {},
   "outputs": [],
   "source": [
    "https://www.kaggle.com/aravrs/titanic-models-benchmark"
   ]
  },
  {
   "cell_type": "code",
   "execution_count": null,
   "metadata": {},
   "outputs": [],
   "source": []
  },
  {
   "cell_type": "code",
   "execution_count": null,
   "metadata": {},
   "outputs": [],
   "source": [
    "sns.heatmap(train_df.corr(), annot=True, cmap='RdBu_r',\n",
    "            center=0, vmin=-1, vmax=1, linewidth=2, annot_kws={\"fontsize\":12},\n",
    "            square=False, cbar=True).set_title('Correlation matrix', fontsize=24);\n",
    "plt.yticks(rotation=0);"
   ]
  },
  {
   "cell_type": "code",
   "execution_count": null,
   "metadata": {},
   "outputs": [],
   "source": []
  },
  {
   "cell_type": "code",
   "execution_count": null,
   "metadata": {},
   "outputs": [],
   "source": []
  },
  {
   "cell_type": "code",
   "execution_count": null,
   "metadata": {},
   "outputs": [],
   "source": []
  },
  {
   "cell_type": "code",
   "execution_count": null,
   "metadata": {},
   "outputs": [],
   "source": []
  }
 ],
 "metadata": {
  "kernelspec": {
   "display_name": "Python 3",
   "language": "python",
   "name": "python3"
  },
  "language_info": {
   "codemirror_mode": {
    "name": "ipython",
    "version": 3
   },
   "file_extension": ".py",
   "mimetype": "text/x-python",
   "name": "python",
   "nbconvert_exporter": "python",
   "pygments_lexer": "ipython3",
   "version": "3.8.5"
  }
 },
 "nbformat": 4,
 "nbformat_minor": 4
}
